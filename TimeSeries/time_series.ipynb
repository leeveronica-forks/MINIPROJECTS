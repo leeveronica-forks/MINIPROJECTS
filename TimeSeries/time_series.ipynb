{
 "cells": [
  {
   "cell_type": "markdown",
   "metadata": {},
   "source": [
    "# Overview\n",
    "Time series prediction presents its own challenges which are different from\n",
    "machine-learning problems.  Like many other classes of problems, it also\n",
    "presents a number of special features which are common.\n",
    "\n",
    "## Fetch the data:\n",
    "http://s3.amazonaws.com/thedataincubator/coursedata/mldata/train.txt.gz\n",
    "\n",
    "The columns of the data correspond to the\n",
    "  - year\n",
    "  - month\n",
    "  - day\n",
    "  - hour\n",
    "  - temp\n",
    "  - dew_temp\n",
    "  - pressure\n",
    "  - wind_angle\n",
    "  - wind_speed\n",
    "  - sky_code\n",
    "  - rain_hour\n",
    "  - rain_6hour\n",
    "  - city\n",
    "\n",
    "We will focus on using the temporal elements to predict the temperature.\n"
   ]
  },
  {
   "cell_type": "code",
   "execution_count": 1,
   "metadata": {
    "collapsed": true
   },
   "outputs": [],
   "source": [
    "test_data = [\n",
    "    u\"2000 01 01 00   -11   -72 10197   220    26     4     0     0 bos\",\n",
    "    u\"2000 01 01 01    -6   -78 10206   230    26     2     0 -9999 bos\",\n",
    "    u\"2000 01 01 02   -17   -78 10211   230    36     0     0 -9999 bos\",\n",
    "    u\"2000 01 01 03   -17   -78 10214   230    36     0     0 -9999 bos\",\n",
    "    u\"2000 01 01 04   -17   -78 10216   230    36     0     0 -9999 bos\",\n",
    "]"
   ]
  },
  {
   "cell_type": "code",
   "execution_count": 2,
   "metadata": {
    "collapsed": false
   },
   "outputs": [],
   "source": [
    "import gzip\n",
    "import numpy as np\n",
    "data_list = []\n",
    "with gzip.open('train.txt.gz', 'rb') as f:\n",
    "    for line in f:\n",
    "        item = line.strip().split(' ')\n",
    "        str_list = filter(None, item)\n",
    "        str_list_new = str_list[0:5]\n",
    "        city = str_list[12]\n",
    "        int_list = [int(item) for item in str_list_new]\n",
    "        int_list.append(city)\n",
    "        data_list.append(int_list)\n",
    "new_data_list = []\n",
    "for item in data_list:\n",
    "    if item[4]==-9999:\n",
    "        item[4] = None\n",
    "    new_data_list.append(item)"
   ]
  },
  {
   "cell_type": "code",
   "execution_count": 3,
   "metadata": {
    "collapsed": false
   },
   "outputs": [],
   "source": [
    "import pandas as pd\n",
    "\n",
    "df = pd.DataFrame(new_data_list)\n",
    "df.columns = ['year','month','day','hour','temp','city']"
   ]
  },
  {
   "cell_type": "code",
   "execution_count": 4,
   "metadata": {
    "collapsed": false
   },
   "outputs": [
    {
     "data": {
      "text/html": [
       "<div>\n",
       "<table border=\"1\" class=\"dataframe\">\n",
       "  <thead>\n",
       "    <tr style=\"text-align: right;\">\n",
       "      <th></th>\n",
       "      <th></th>\n",
       "      <th></th>\n",
       "      <th>temp</th>\n",
       "    </tr>\n",
       "    <tr>\n",
       "      <th>city</th>\n",
       "      <th>month</th>\n",
       "      <th>hour</th>\n",
       "      <th></th>\n",
       "    </tr>\n",
       "  </thead>\n",
       "  <tbody>\n",
       "    <tr>\n",
       "      <th rowspan=\"5\" valign=\"top\">bal</th>\n",
       "      <th rowspan=\"5\" valign=\"top\">1</th>\n",
       "      <th>0</th>\n",
       "      <td>15.606469</td>\n",
       "    </tr>\n",
       "    <tr>\n",
       "      <th>1</th>\n",
       "      <td>10.180108</td>\n",
       "    </tr>\n",
       "    <tr>\n",
       "      <th>2</th>\n",
       "      <td>6.483871</td>\n",
       "    </tr>\n",
       "    <tr>\n",
       "      <th>3</th>\n",
       "      <td>2.793011</td>\n",
       "    </tr>\n",
       "    <tr>\n",
       "      <th>4</th>\n",
       "      <td>-0.454301</td>\n",
       "    </tr>\n",
       "  </tbody>\n",
       "</table>\n",
       "</div>"
      ],
      "text/plain": [
       "                      temp\n",
       "city month hour           \n",
       "bal  1     0     15.606469\n",
       "           1     10.180108\n",
       "           2      6.483871\n",
       "           3      2.793011\n",
       "           4     -0.454301"
      ]
     },
     "execution_count": 4,
     "metadata": {},
     "output_type": "execute_result"
    }
   ],
   "source": [
    "df_1 = pd.DataFrame(df.groupby(['city','month','hour'])['temp'].mean())\n",
    "df_1.head()"
   ]
  },
  {
   "cell_type": "code",
   "execution_count": 5,
   "metadata": {
    "collapsed": false
   },
   "outputs": [],
   "source": [
    "# Define the estimator\n",
    "\n",
    "from sklearn.base import BaseEstimator, RegressorMixin\n",
    "class MyEstimator(BaseEstimator, RegressorMixin):\n",
    "    def __init__(self):\n",
    "        pass\n",
    "        \n",
    "\n",
    "    def fit(self,df):\n",
    "        self.average = pd.DataFrame(df.groupby(['city','month','hour'])['temp'].mean())\n",
    "        return self\n",
    "\n",
    "    def predict(self, record):\n",
    "        item = record.split()\n",
    "        city = item[12]\n",
    "        month = int(item[1])\n",
    "        hour = int(item[3])\n",
    "        self.prediction = self.average.loc[(city,month,hour)].values[0]\n",
    "        return self.prediction"
   ]
  },
  {
   "cell_type": "code",
   "execution_count": 6,
   "metadata": {
    "collapsed": false
   },
   "outputs": [
    {
     "data": {
      "text/plain": [
       "-19.091397849462364"
      ]
     },
     "execution_count": 6,
     "metadata": {},
     "output_type": "execute_result"
    }
   ],
   "source": [
    "import dill\n",
    "myestimator = MyEstimator()\n",
    "q1estimator = myestimator.fit(df)\n",
    "tsq1_estimator = dill.dump(q1estimator,open('tsq1','w'))\n",
    "q1estimator.predict(test_data[4])"
   ]
  },
  {
   "cell_type": "markdown",
   "metadata": {},
   "source": [
    "# Question 2. Fourier Model"
   ]
  },
  {
   "cell_type": "code",
   "execution_count": 351,
   "metadata": {
    "collapsed": true
   },
   "outputs": [],
   "source": [
    "from scipy import fftpack\n",
    "\n",
    "q2_data_list = []\n",
    "with gzip.open('train.txt.gz', 'rb') as f:\n",
    "    for line in f:\n",
    "        item = line.strip().split(' ')\n",
    "        str_list = filter(None, item)\n",
    "        str_new = ' '.join(str_list[0:4])\n",
    "        city = str_list[12]\n",
    "        temp = int(str_list[4])\n",
    "        if temp == -9999:\n",
    "            temp = None\n",
    "        l = [city,str_new,temp]\n",
    "        q2_data_list.append(l)\n",
    "\n",
    "df_q2 = pd.DataFrame(q2_data_list)\n",
    "df_q2.columns = [\"city\",'date','temp']"
   ]
  },
  {
   "cell_type": "code",
   "execution_count": 352,
   "metadata": {
    "collapsed": false
   },
   "outputs": [],
   "source": [
    "df_q2['date'] = pd.to_datetime(df_q2['date'])\n",
    "series = pd.Series(df_q2['temp'].values,index = df_q2['date'].values)\n",
    "temps_df = pd.DataFrame()\n",
    "temps_df['city'] = df_q2['city']\n",
    "temps_df['Julian'] = series.index.to_julian_date()\n",
    "temps_df['temp'] = df_q2['temp']\n",
    "temps_df['sin(year)'] = np.sin(temps_df['Julian'] / 365.25 * 2 * np.pi)\n",
    "temps_df['cos(year)'] = np.cos(temps_df['Julian'] / 365.25 * 2 * np.pi)\n",
    "\n",
    "temps_df = temps_df.dropna(how='any')"
   ]
  },
  {
   "cell_type": "code",
   "execution_count": 372,
   "metadata": {
    "collapsed": false
   },
   "outputs": [],
   "source": [
    "from sklearn import linear_model\n",
    "class fftestimator(BaseEstimator, RegressorMixin):\n",
    "    def __init__(self,city):\n",
    "        self.city = city\n",
    "        self.clf = linear_model.RidgeCV(cv =2)\n",
    "        pass\n",
    "        \n",
    "\n",
    "    def fit(self,temps_df):\n",
    "        city_df = pd.DataFrame()\n",
    "        city_df = temps_df.loc[temps_df['city'] == self.city]\n",
    "        sin_year = city_df['sin(year)'].values.tolist()\n",
    "        cos_year = city_df['cos(year)'].values.tolist()\n",
    "        X_train = [list(item) for item in zip(sin_year,cos_year)]\n",
    "        Y_train = city_df['temp'].values.tolist()\n",
    "        self.q2 = self.clf.fit(X_train,Y_train)\n",
    "        return self\n",
    "    \n",
    "    def predict(self, record):\n",
    "        item = record.split()\n",
    "        date_str = ' '.join(item[0:4])\n",
    "        city = item[12]\n",
    "        df1 = pd.DataFrame([[city,date_str]])\n",
    "        df1.columns = ['city','date']\n",
    "        df1['date'] = pd.to_datetime(date_str)\n",
    "        series1 = pd.Series(df1['city'].values,index = df1['date'].values)\n",
    "        df2 = pd.DataFrame()\n",
    "        df2['Julian'] = series1.index.to_julian_date()\n",
    "        df2['sin(year)'] = np.sin(df2['Julian'] / 365.25 * 2 * np.pi)\n",
    "        df2['cos(year)'] = np.cos(df2['Julian'] / 365.25 * 2 * np.pi)\n",
    "        sin_year = df2['sin(year)'].values.tolist()[0]\n",
    "        cos_year = df2['cos(year)'].values.tolist()[0]\n",
    "        value = self.q2.predict([sin_year,cos_year])[0]\n",
    "        return value"
   ]
  },
  {
   "cell_type": "code",
   "execution_count": 370,
   "metadata": {
    "collapsed": false
   },
   "outputs": [],
   "source": [
    "city_list = ['bal','bos','chi','nyc','phi']\n",
    "estimator_list = []\n",
    "for city in city_list:\n",
    "    q2estimator = fftestimator(city)\n",
    "    estimator = q2estimator.fit(temps_df)\n",
    "    estimator_list.append(estimator)\n",
    "estimator_dict = dict(zip(city_list,estimator_list))"
   ]
  },
  {
   "cell_type": "code",
   "execution_count": 381,
   "metadata": {
    "collapsed": false
   },
   "outputs": [
    {
     "data": {
      "text/plain": [
       "17.585740098490703"
      ]
     },
     "execution_count": 381,
     "metadata": {},
     "output_type": "execute_result"
    }
   ],
   "source": [
    "# test\n",
    "record = \"2011 12  30  20  -11   -72 10197   220    26     4     0     0 nyc\"\n",
    "city = record.split()[12]\n",
    "estimator_dict[city].predict(record)"
   ]
  }
 ],
 "metadata": {
  "kernelspec": {
   "display_name": "Python 2",
   "language": "python",
   "name": "python2"
  },
  "language_info": {
   "codemirror_mode": {
    "name": "ipython",
    "version": 2
   },
   "file_extension": ".py",
   "mimetype": "text/x-python",
   "name": "python",
   "nbconvert_exporter": "python",
   "pygments_lexer": "ipython2",
   "version": "2.7.10"
  }
 },
 "nbformat": 4,
 "nbformat_minor": 0
}
