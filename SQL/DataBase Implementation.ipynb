{
 "cells": [
  {
   "cell_type": "markdown",
   "metadata": {},
   "source": [
    "# SQL On NYC Restaurant Inspections\n",
    "The city of New York does restaurant inspections and assigns a grade.\n",
    "Inspections data the last 4 years are available\n",
    "[here](https://s3.amazonaws.com/thedataincubator/coursedata/nyc_inspection_data.zip).\n",
    "\n",
    "The file `RI_Webextract_BigApps_Latest.xls` contains a description of each of\n",
    "the datafiles.  Take a look and then load the csv formatted `*.txt` files into\n",
    "Postgresql into five tables:\n",
    "1. `actions`\n",
    "2. `cuisines`\n",
    "3. `violations`\n",
    "4. `grades` (from `WebExtract.txt`)\n",
    "5. `boroughs` (from `RI_Webextract_BigApps_Latest.xls`)"
   ]
  },
  {
   "cell_type": "code",
   "execution_count": 7,
   "metadata": {
    "collapsed": false
   },
   "outputs": [],
   "source": [
    "import sys\n",
    "import re\n",
    "sys.path.append('/usr/lib/python2.7/dist-packages')\n",
    "import csv\n",
    "from pysqlite2 import dbapi2 as sqlite3\n",
    "#con = sqlite3.connect(\":memory:\")\n",
    "con = sqlite3.connect('dabase.db')\n",
    "con.enable_load_extension(True)\n",
    "con.load_extension(\"/home/vagrant/libsqlitefunctions\")\n",
    "\n",
    "con.text_factory = str\n",
    "c = con.cursor()  # create cursor object and call its execute method to perform sql command"
   ]
  },
  {
   "cell_type": "markdown",
   "metadata": {},
   "source": [
    "CAMIS,DBA,BORO,BUILDING,STREET,ZIPCODE,PHONE,CUISINECODE,INSPDATE,ACTION,VIOLCODE, SCORE,CURRENTGRADE,GRADEDATE,RECORDDATE"
   ]
  },
  {
   "cell_type": "markdown",
   "metadata": {},
   "source": [
    "##Score by ZipCode\n",
    "Return a list of tuples of the form:\n",
    "```\n",
    "(zipcode, mean score, standard error, number of violations)\n",
    "```\n",
    "for each of the 184 zipcodes in the city with over 100 violations. Sort the\n",
    "list in ascending order by mean score."
   ]
  },
  {
   "cell_type": "code",
   "execution_count": 3,
   "metadata": {
    "collapsed": false
   },
   "outputs": [
    {
     "name": "stdout",
     "output_type": "stream",
     "text": [
      "['CAMIS', 'DBA', 'BORO', 'BUILDING', 'STREET', 'ZIPCODE', 'PHONE', 'CUISINECODE', 'INSPDATE', 'ACTION', 'VIOLCODE', 'SCORE', 'CURRENTGRADE', 'GRADEDATE', 'RECORDDATE']\n"
     ]
    }
   ],
   "source": [
    "# Print Column Name of the Table Grades\n",
    "cursor = con.execute('select * from grades')\n",
    "names = [description[0] for description in cursor.description]\n",
    "print names"
   ]
  },
  {
   "cell_type": "code",
   "execution_count": 8,
   "metadata": {
    "collapsed": false
   },
   "outputs": [],
   "source": [
    "# Create a NEW TABLE\n",
    "con.execute('DROP TABLE IF EXISTS score_table')\n",
    "con.execute('CREATE TABLE score_table AS SELECT ZIPCODE,SCORE,VIOLCODE FROM grades ORDER BY ZIPCODE')\n",
    "con.enable_load_extension(False)\n",
    "con.execute('UPDATE score_table SET VIOLCODE=1')\n",
    "con.execute('DROP TABLE IF EXISTS final_score_table')\n",
    "con.execute('CREATE TABLE final_score_table(ZIPCODE, MEAN, STANDARD_ERROR, TOTOAL_VIOLATION)')\n",
    "for row in con.execute('SELECT ZIPCODE, AVG(SCORE),STDEV(SCORE)/SQRT(COUNT(*)),SUM(VIOLCODE) FROM score_table GROUP BY ZIPCODE'):\n",
    "    con.execute('INSERT INTO final_score_table VALUES (?,?,?,?)',row)"
   ]
  },
  {
   "cell_type": "code",
   "execution_count": 9,
   "metadata": {
    "collapsed": false
   },
   "outputs": [],
   "source": [
    "List_score = []\n",
    "for row in con.execute('SELECT * FROM final_score_table WHERE TOTOAL_VIOLATION>100'):\n",
    "    List_score.append(row)\n",
    "#print List_score"
   ]
  },
  {
   "cell_type": "markdown",
   "metadata": {},
   "source": [
    "##Score_by_Map\n",
    "\n",
    "The above are not terribly enlightening.  Use [CartoDB](http://cartodb.com/)\n",
    "to produce a map of average scores by zip code."
   ]
  },
  {
   "cell_type": "code",
   "execution_count": 10,
   "metadata": {
    "collapsed": false
   },
   "outputs": [
    {
     "data": {
      "text/plain": [
       "<pysqlite2.dbapi2.Cursor at 0x7fcd4c18ec00>"
      ]
     },
     "execution_count": 10,
     "metadata": {},
     "output_type": "execute_result"
    }
   ],
   "source": [
    "con.execute('DROP TABLE IF EXISTS map')\n",
    "con.execute('CREATE TABLE map AS SELECT ZIPCODE, MEAN FROM final_score_table')\n",
    "con.execute('DELETE FROM map WHERE MEAN = 0.0')\n",
    "#for row in con.execute('SELECT * FROM map'):\n",
    "#    print row"
   ]
  },
  {
   "cell_type": "code",
   "execution_count": 11,
   "metadata": {
    "collapsed": false
   },
   "outputs": [],
   "source": [
    "import csv\n",
    "with open('map.csv', 'wb') as csvfile:\n",
    "    for row in con.execute('SELECT * FROM map'):\n",
    "        w = csv.writer(csvfile, delimiter=',')\n",
    "        L = list(row)\n",
    "        w.writerow(L)"
   ]
  },
  {
   "cell_type": "markdown",
   "metadata": {},
   "source": [
    "#### URL:　http://cdb.io/1UN3K1w"
   ]
  },
  {
   "cell_type": "markdown",
   "metadata": {},
   "source": [
    "## score_by_borough\n",
    "Return a list of tuples of the form:\n",
    "    ```\n",
    "    (borough, mean score, stderr, number of violations)\n",
    "    ```\n",
    "for each of the city's five boroughs. Sort the list in ascending order by grade."
   ]
  },
  {
   "cell_type": "code",
   "execution_count": 12,
   "metadata": {
    "collapsed": false
   },
   "outputs": [
    {
     "data": {
      "text/plain": [
       "<pysqlite2.dbapi2.Cursor at 0x7fcd4c1a5570>"
      ]
     },
     "execution_count": 12,
     "metadata": {},
     "output_type": "execute_result"
    }
   ],
   "source": [
    "con.execute('DROP TABLE IF EXISTS score_borough')\n",
    "con.execute('CREATE TABLE score_borough AS SELECT BORO,SCORE,VIOLCODE FROM grades ORDER BY SCORE ASC')"
   ]
  },
  {
   "cell_type": "code",
   "execution_count": 13,
   "metadata": {
    "collapsed": false
   },
   "outputs": [
    {
     "data": {
      "text/plain": [
       "<pysqlite2.dbapi2.Cursor at 0x7fcd4c1a5490>"
      ]
     },
     "execution_count": 13,
     "metadata": {},
     "output_type": "execute_result"
    }
   ],
   "source": [
    "con.enable_load_extension(False)\n",
    "con.execute('DROP TABLE IF EXISTS final_score_borough')\n",
    "con.execute('UPDATE score_borough SET VIOLCODE=1')\n",
    "con.execute('CREATE TABLE final_score_borough(BORO, MEAN, STANDARD_ERROR, TOTOAL_VIOLATION)')"
   ]
  },
  {
   "cell_type": "code",
   "execution_count": 14,
   "metadata": {
    "collapsed": false
   },
   "outputs": [],
   "source": [
    "for row in con.execute('SELECT BORO, AVG(SCORE),STDEV(SCORE)/SQRT(COUNT(*)),COUNT(*) FROM score_borough GROUP BY BORO'):\n",
    "    con.execute('INSERT INTO final_score_borough VALUES (?,?,?,?)',row)"
   ]
  },
  {
   "cell_type": "code",
   "execution_count": 15,
   "metadata": {
    "collapsed": false
   },
   "outputs": [
    {
     "name": "stdout",
     "output_type": "stream",
     "text": [
      "[('1', 20.90015237235938, 0.03327223609283201, 217231), ('2', 20.220328529429906, 0.07079882864256343, 48641), ('3', 20.68926287176207, 0.0442869058752457, 125080), ('4', 21.252587170226892, 0.04555938671691197, 123494), ('5', 19.37282871275739, 0.10748753379552745, 17386)]\n"
     ]
    }
   ],
   "source": [
    "boro_score = []\n",
    "con.execute('DELETE FROM final_score_borough WHERE BORO=\"0\"')\n",
    "for row in con.execute('SELECT * FROM final_score_borough'):\n",
    "    boro_score.append(row)\n",
    "print boro_score"
   ]
  },
  {
   "cell_type": "markdown",
   "metadata": {},
   "source": [
    "## score_by_cuisine\n",
    "Return a list of the 75 tuples of the form\n",
    "    ```\n",
    "    (cuisine, mean score, stderr, number of violations)\n",
    "    ```\n",
    "for each of the 75 cuisine types with at least 100 inspections. Sort the list \n",
    "in ascending order by score."
   ]
  },
  {
   "cell_type": "code",
   "execution_count": 16,
   "metadata": {
    "collapsed": false
   },
   "outputs": [
    {
     "data": {
      "text/plain": [
       "<pysqlite2.dbapi2.Cursor at 0x7fcd4c1a5500>"
      ]
     },
     "execution_count": 16,
     "metadata": {},
     "output_type": "execute_result"
    }
   ],
   "source": [
    "con.execute('DROP TABLE IF EXISTS score_cuisine')\n",
    "con.execute('CREATE TABLE score_cuisine AS SELECT CUISINECODE,SCORE,VIOLCODE FROM grades ORDER BY SCORE ASC')"
   ]
  },
  {
   "cell_type": "code",
   "execution_count": 17,
   "metadata": {
    "collapsed": false
   },
   "outputs": [
    {
     "data": {
      "text/plain": [
       "<pysqlite2.dbapi2.Cursor at 0x7fcd4c1a56c0>"
      ]
     },
     "execution_count": 17,
     "metadata": {},
     "output_type": "execute_result"
    }
   ],
   "source": [
    "con.enable_load_extension(False)\n",
    "con.execute('DROP TABLE IF EXISTS final_score_cuisine')\n",
    "con.execute('CREATE TABLE final_score_cuisine(CUISINECODE, MEAN, STANDARD_ERROR, TOTOAL_VIOLATION)')"
   ]
  },
  {
   "cell_type": "code",
   "execution_count": 18,
   "metadata": {
    "collapsed": true
   },
   "outputs": [],
   "source": [
    "for row in con.execute('SELECT CUISINECODE, AVG(SCORE),STDEV(SCORE)/SQRT(COUNT(*)),COUNT(*) FROM score_cuisine GROUP BY CUISINECODE'):\n",
    "    con.execute('INSERT INTO final_score_cuisine VALUES (?,?,?,?)',row)"
   ]
  },
  {
   "cell_type": "code",
   "execution_count": 19,
   "metadata": {
    "collapsed": false
   },
   "outputs": [],
   "source": [
    "cuisine_score = []\n",
    "input_file = csv.DictReader(open('Cuisine.txt'))\n",
    "dic={}\n",
    "for row in input_file:\n",
    "    dic[row[\"CUISINECODE\"]] = str(row[\"CODEDESC\"])\n",
    "for row in con.execute('SELECT * FROM final_score_cuisine WHERE TOTOAL_VIOLATION>=100 '):\n",
    "    cuisine_score.append(list(row))\n",
    "#print cuisine_score\n",
    "\n",
    "new_cuisine_score = []\n",
    "for item in cuisine_score:\n",
    "    item[0] = dic[item[0]]\n",
    "    new_cuisine_score.append(tuple(item))\n",
    "#print new_cuisine_score"
   ]
  },
  {
   "cell_type": "markdown",
   "metadata": {},
   "source": [
    "## violation_by_cuisine\n",
    "Which cuisines tend to have a disproportionate number of what which violations?\n",
    "Answering this question isn't easy becuase you have to think carefully about\n",
    "normalizations.\n",
    "\n",
    "1. More popular cuisine categories will tend to have more violations just\n",
    "   becuase they represent more restaurants.\n",
    "2. Similarly, some violations are more common.  For example, knowing that\n",
    "   \"Equipment not easily movable or sealed to floor\" is a common violation for\n",
    "   Chinese restuarants is not particularly helpful when it is a common\n",
    "   violation for all restaurants.\n",
    "\n",
    "The right quantity is to look at is the conditional probability of a specific\n",
    "type of violation given a specific cuisine type and divide it by the\n",
    "unconditional probability of the violation for the entire population. Taking\n",
    "this ratio gives the right answer.  Return the 20 highest ratios of the form:\n",
    "    ```\n",
    "    ((cuisine, violation), ratio, count)\n",
    "    ```"
   ]
  },
  {
   "cell_type": "code",
   "execution_count": 20,
   "metadata": {
    "collapsed": false
   },
   "outputs": [
    {
     "name": "stdout",
     "output_type": "stream",
     "text": [
      "['CAMIS', 'DBA', 'BORO', 'BUILDING', 'STREET', 'ZIPCODE', 'PHONE', 'CUISINECODE', 'INSPDATE', 'ACTION', 'VIOLCODE', 'SCORE', 'CURRENTGRADE', 'GRADEDATE', 'RECORDDATE']\n"
     ]
    }
   ],
   "source": [
    "cursor = con.execute('select * from grades')\n",
    "names = [description[0] for description in cursor.description]\n",
    "print names"
   ]
  },
  {
   "cell_type": "code",
   "execution_count": 21,
   "metadata": {
    "collapsed": false
   },
   "outputs": [
    {
     "name": "stdout",
     "output_type": "stream",
     "text": [
      "['STARTDATE', 'ENDDATE', 'CRITICALFLAG', 'VIOLATIONCODE', 'VIOLATIONDESC']\n"
     ]
    }
   ],
   "source": [
    "cursor = con.execute('select * from violations')\n",
    "names = [description[0] for description in cursor.description]\n",
    "print names"
   ]
  },
  {
   "cell_type": "code",
   "execution_count": 22,
   "metadata": {
    "collapsed": false
   },
   "outputs": [
    {
     "data": {
      "text/plain": [
       "<pysqlite2.dbapi2.Cursor at 0x7fcd4c1a58f0>"
      ]
     },
     "execution_count": 22,
     "metadata": {},
     "output_type": "execute_result"
    }
   ],
   "source": [
    "con.execute('DROP TABLE IF EXISTS violation_endate')\n",
    "con.execute(\"\"\"CREATE TABLE violation_endate AS SELECT A.CUISINECODE AS CUISINECODE, A.VIOLCODE AS VIOLCODE ,B.ENDDATE AS ENDDATE\n",
    "  ,A.COUNT0 AS COUNT0     FROM( SELECT CUISINECODE, VIOLCODE, COUNT(*) AS COUNT0 From grades\n",
    "        Group By CUISINECODE, VIOLCODE\n",
    ") AS A\n",
    "INNER JOIN (SELECT VIOLATIONCODE,ENDDATE FROM violations) AS B\n",
    " ON A.VIOLCODE = B.VIOLATIONCODE\n",
    "WHERE ENDDATE>'2014-01-1 00:00:00'\n",
    "\"\"\")\n",
    "#for row in con.execute('SELECT * FROM violation_endate'):\n",
    "#    print row"
   ]
  },
  {
   "cell_type": "code",
   "execution_count": 23,
   "metadata": {
    "collapsed": false
   },
   "outputs": [
    {
     "data": {
      "text/plain": [
       "<pysqlite2.dbapi2.Cursor at 0x7fcd4c1a5d50>"
      ]
     },
     "execution_count": 23,
     "metadata": {},
     "output_type": "execute_result"
    }
   ],
   "source": [
    "s = 0\n",
    "con.execute('DROP TABLE IF EXISTS cond_prob')\n",
    "con.execute('''CREATE TABLE cond_prob AS SELECT  A.CUISINECODE AS CUISINECODE, A.VIOLCODE AS VIOLCODE , A.COUNT0 * 1.0 / B.COUNT2 As Freq\n",
    ",A.COUNT0 AS COUNT0 From    (\n",
    "        Select CUISINECODE, VIOLCODE,COUNT0 \n",
    "        From   violation_endate \n",
    "        Group By CUISINECODE, VIOLCODE\n",
    "        ) As A\n",
    "        Inner Join (\n",
    "            Select CUISINECODE, COUNT(*) As COUNT2\n",
    "            From   grades \n",
    "            Group By CUISINECODE\n",
    "            ) As B\n",
    "            On A.CUISINECODE = B.CUISINECODE\n",
    "           ''')\n",
    "#for row in con.execute('SELECT * FROM cond_prob'):\n",
    "#    print row"
   ]
  },
  {
   "cell_type": "code",
   "execution_count": 24,
   "metadata": {
    "collapsed": false
   },
   "outputs": [
    {
     "data": {
      "text/plain": [
       "<pysqlite2.dbapi2.Cursor at 0x7fcd4c1a5dc0>"
      ]
     },
     "execution_count": 24,
     "metadata": {},
     "output_type": "execute_result"
    }
   ],
   "source": [
    "con.execute('DROP TABLE IF EXISTS new_grades')\n",
    "con.execute(\"\"\"CREATE TABLE new_grades AS SELECT A.CUISINECODE AS CUISINECODE, A.VIOLCODE AS VIOLCODE ,B.ENDDATE AS ENDDATE\n",
    "        FROM( SELECT CUISINECODE, VIOLCODE FROM grades) AS A\n",
    "        INNER JOIN (SELECT VIOLATIONCODE,ENDDATE FROM violations) AS B\n",
    "        ON A.VIOLCODE = B.VIOLATIONCODE\n",
    "        WHERE ENDDATE>'2014-01-1 00:00:00'\n",
    "\"\"\")\n",
    "\n",
    "#for row in con.execute('SELECT * FROM new_grades'):\n",
    "#    print row"
   ]
  },
  {
   "cell_type": "code",
   "execution_count": 25,
   "metadata": {
    "collapsed": false
   },
   "outputs": [
    {
     "data": {
      "text/plain": [
       "<pysqlite2.dbapi2.Cursor at 0x7fcd4c1a5f10>"
      ]
     },
     "execution_count": 25,
     "metadata": {},
     "output_type": "execute_result"
    }
   ],
   "source": [
    "con.execute('DROP TABLE IF EXISTS vio_table')\n",
    "con.execute('''CREATE TABLE vio_table AS Select A.VIOLCODE AS VIOLCODE,A.COUNT3 AS COUNT3, B.vio_count As TOTAL\n",
    "From    (\n",
    "        Select VIOLCODE,COUNT(*) AS COUNT3\n",
    "        From   new_grades \n",
    "        Group By VIOLCODE\n",
    "        ) As A\n",
    "        Inner Join (\n",
    "            Select Count(*) As vio_count\n",
    "            From   new_grades \n",
    "            ) As B\n",
    "           ''')\n",
    "con.execute('DROP TABLE IF EXISTS prob_vio')\n",
    "con.execute('CREATE TABLE prob_vio AS SELECT VIOLCODE,COUNT3*1.0/TOTAL AS Prob_vio FROM vio_table GROUP BY VIOLCODE')\n",
    "#for row in con.execute('SELECT * FROM prob_vio'):\n",
    "#    print row\n",
    "    \n"
   ]
  },
  {
   "cell_type": "code",
   "execution_count": 26,
   "metadata": {
    "collapsed": false
   },
   "outputs": [
    {
     "data": {
      "text/plain": [
       "<pysqlite2.dbapi2.Cursor at 0x7fcd4c0f80a0>"
      ]
     },
     "execution_count": 26,
     "metadata": {},
     "output_type": "execute_result"
    }
   ],
   "source": [
    "# CREATE THE FINAL VERSION OF THE TABLE\n",
    "con.execute('DROP TABLE IF EXISTS final_table')\n",
    "con.execute('''CREATE TABLE final_table AS Select A.CUISINECODE AS CUISINECODE, B.VIOLCODE AS VIOLCODE, A.Freq/B.Prob_vio As RATIO\n",
    ", A.COUNT0 AS COUNT0 From    (\n",
    "        Select CUISINECODE,VIOLCODE,Freq,COUNT0 \n",
    "        From   cond_prob \n",
    "        WHERE COUNT0>100) As A\n",
    "        Inner Join (\n",
    "            Select VIOLCODE, Prob_vio\n",
    "            From   prob_vio \n",
    "            ) As B\n",
    "            On A.VIOLCODE = B.VIOLCODE\n",
    "           ''')\n"
   ]
  },
  {
   "cell_type": "code",
   "execution_count": 27,
   "metadata": {
    "collapsed": false,
    "scrolled": true
   },
   "outputs": [
    {
     "name": "stdout",
     "output_type": "stream",
     "text": [
      "[[['49', '04C'], 3.1966407492241595, 541], [['14', '20D'], 3.0752132613055276, 175], [['51', '04A'], 2.9986049791513367, 145], [['29', '10E'], 2.968506289164759, 130], [['43', '04A'], 2.866105239982387, 193], [['82', '09B'], 2.593547228148914, 151], [['47', '04H'], 2.31842129769913, 321], [['55', '02H'], 2.2804895386184767, 260], [['44', '02H'], 2.2235766356565505, 112], [['20', '09B'], 2.168440931994184, 1121], [['17', '02H'], 2.0688249480031353, 206], [['20', '04D'], 2.0593512120045765, 121], [['39', '10E'], 2.0400891433770334, 109], [['03', '15I'], 2.0326219075370706, 227], [['75', '02G'], 2.0280238969865545, 106], [['29', '22C'], 2.0181256117202815, 110], [['56', '04A'], 1.9178696412948382, 117], [['77', '02H'], 1.8639762993672309, 151], [['39', '04N'], 1.8462313688223175, 600], [['14', '10A'], 1.8372562504830467, 315]]\n",
      "[(('Japanese', 'Food worker does not use proper utensil to eliminate bare hand contact with food that will not receive adequate additional heat treatment.'), 3.1966407492241595, 541), (('Caf/Coffee/Tea', 'Choking first aid poster not posted. Alcohol and pregnancy warning sign not posted. Resuscitation equipment: exhaled air resuscitation masks (adult & pediatric), latex gloves, sign not posted. Inspection report sign not posted.'), 3.0752132613055276, 175), (('Juice, Smoothies, Fruit Salads', 'Food Protection Certificate not held by supervisor of food operations.'), 2.9986049791513367, 145), (('Donuts', 'Accurate thermometer not provided in refrigerated or hot holding equipment.'), 2.968506289164759, 130), (('Ice Cream, Gelato, Yogurt, Ices', 'Food Protection Certificate not held by supervisor of food operations.'), 2.866105239982387, 193), (('Thai', 'Thawing procedures improper.'), 2.593547228148914, 151), (('Irish', 'Raw, cooked or prepared food is adulterated, contaminated, cross-contaminated, or not discarded in accordance with HACCP plan.'), 2.31842129769913, 321), (('Mexican', 'Food not cooled by an approved method whereby the internal product temperature is reduced from 140 F to 70 F or less within 2 hours, and from 70 F to 41 F or less within 4 additional hours.'), 2.2804895386184767, 260), (('Indian', 'Food not cooled by an approved method whereby the internal product temperature is reduced from 140 F to 70 F or less within 2 hours, and from 70 F to 41 F or less within 4 additional hours.'), 2.2235766356565505, 112), (('Chinese', 'Thawing procedures improper.'), 2.168440931994184, 1121), (('Caribbean', 'Food not cooled by an approved method whereby the internal product temperature is reduced from 140 F to 70 F or less within 2 hours, and from 70 F to 41 F or less within 4 additional hours.'), 2.0688249480031353, 206), (('Chinese', 'Food worker does not wash hands thoroughly after using the toilet, coughing, sneezing, smoking, eating, preparing raw foods or otherwise contaminating hands.'), 2.0593512120045765, 121), (('Hamburgers', 'Accurate thermometer not provided in refrigerated or hot holding equipment.'), 2.0400891433770334, 109), (('American ', '\"No Smoking and/or \\'Smoking Permitted sign not conspicuously posted. Health warning not present on \\'Smoking Permitted'), 2.0326219075370706, 227), (('Soups & Sandwiches', 'Cold food item held above 41 F (smoked fish and reduced oxygen packaged foods above 38 F) except during necessary preparation.'), 2.0280238969865545, 106), (('Donuts', 'Bulb not shielded or shatterproof, in areas where there is extreme heat, temperature changes, or where accidental contact may occur.'), 2.0181256117202815, 110), (('Middle Eastern', 'Food Protection Certificate not held by supervisor of food operations.'), 1.9178696412948382, 117), (('Spanish', 'Food not cooled by an approved method whereby the internal product temperature is reduced from 140 F to 70 F or less within 2 hours, and from 70 F to 41 F or less within 4 additional hours.'), 1.8639762993672309, 151), (('Hamburgers', 'Filth flies or food/refuse/sewage-associated (FRSA) flies present in facilitys food and/or non-food areas. Filth flies include house flies, little house flies, blow flies, bottle flies and flesh flies. Food/refuse/sewage-associated flies include fruit flies, drain flies and Phorid flies.'), 1.8462313688223175, 600), (('Caf/Coffee/Tea', 'Toilet facility not maintained and provided with toilet paper, waste receptacle and self-closing door.'), 1.8372562504830467, 315)]\n"
     ]
    }
   ],
   "source": [
    "violation_dict = {}\n",
    "FINAL_LIST = []\n",
    "cuisine_dict = {}\n",
    "input_cuisine_file = csv.DictReader(open('Cuisine.txt'))\n",
    "for row in input_cuisine_file:\n",
    "    cuisine_dict[row[\"CUISINECODE\"]] = str(row[\"CODEDESC\"]).decode(\"ascii\",\"ignore\")\n",
    "\n",
    "input_violation_file = csv.DictReader(open('Violation.txt'))\n",
    "for row in input_violation_file:\n",
    "    violation_dict[row[\"VIOLATIONCODE\"]] = str(row[\"VIOLATIONDESC\"]).decode(\"ascii\",\"ignore\")\n",
    "#print violation_dict\n",
    "\n",
    "\n",
    "for row in con.execute('SELECT * FROM final_table ORDER BY RATIO DESC LIMIT 20'):\n",
    "    FINAL_LIST.append(list((list((row[0],row[1])),row[2],row[3])))\n",
    "print FINAL_LIST\n",
    "\n",
    "final_cuisine_violation = []\n",
    "for item in FINAL_LIST:\n",
    "    item[0][0] = str(cuisine_dict[item[0][0]])\n",
    "    item[0][1] = str(violation_dict[item[0][1]])\n",
    "    new_item = ((item[0][0],item[0][1]),item[1],item[2])\n",
    "    final_cuisine_violation.append(new_item)\n",
    "print final_cuisine_violation"
   ]
  },
  {
   "cell_type": "code",
   "execution_count": 5,
   "metadata": {
    "collapsed": false
   },
   "outputs": [],
   "source": [
    "con.commit()\n",
    "con.close()"
   ]
  }
 ],
 "metadata": {
  "kernelspec": {
   "display_name": "Python 2",
   "language": "python",
   "name": "python2"
  },
  "language_info": {
   "codemirror_mode": {
    "name": "ipython",
    "version": 2
   },
   "file_extension": ".py",
   "mimetype": "text/x-python",
   "name": "python",
   "nbconvert_exporter": "python",
   "pygments_lexer": "ipython2",
   "version": "2.7.10"
  }
 },
 "nbformat": 4,
 "nbformat_minor": 0
}
